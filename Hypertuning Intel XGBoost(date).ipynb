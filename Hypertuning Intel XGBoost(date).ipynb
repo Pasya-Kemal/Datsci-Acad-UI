{
 "cells": [
  {
   "cell_type": "code",
   "execution_count": 1,
   "id": "fd87a62f",
   "metadata": {},
   "outputs": [
    {
     "name": "stderr",
     "output_type": "stream",
     "text": [
      "Intel(R) Extension for Scikit-learn* enabled (https://github.com/intel/scikit-learn-intelex)\n"
     ]
    }
   ],
   "source": [
    "from sklearnex import patch_sklearn\n",
    "patch_sklearn()\n",
    "\n",
    "import pandas as pd\n",
    "import seaborn as sns\n",
    "from xgboost import XGBRegressor\n",
    "from sklearn.metrics import mean_squared_error\n",
    "import numpy as np\n",
    "import matplotlib.pyplot as plt\n",
    "from sklearn.model_selection import train_test_split, RandomizedSearchCV\n",
    "from sklearn.metrics import make_scorer\n",
    "import time\n",
    "from sklearn.preprocessing import LabelEncoder"
   ]
  },
  {
   "cell_type": "code",
   "execution_count": 59,
   "id": "34231fb4",
   "metadata": {},
   "outputs": [],
   "source": [
    "df_with_seasonal = pd.read_csv(\"train_with_seasonal.csv\")\n",
    "df_no_seasonal = pd.read_csv(\"train_filtered2.csv\")"
   ]
  },
  {
   "cell_type": "code",
   "execution_count": 60,
   "id": "f421facc",
   "metadata": {},
   "outputs": [],
   "source": [
    "df_no_seasonal = df_no_seasonal.drop(columns=[\"date\"])"
   ]
  },
  {
   "cell_type": "code",
   "execution_count": 61,
   "id": "7b1e34c7",
   "metadata": {},
   "outputs": [],
   "source": [
    "target_col = \"electricity_consumption\""
   ]
  },
  {
   "cell_type": "code",
   "execution_count": 62,
   "id": "ab9976c6",
   "metadata": {},
   "outputs": [],
   "source": [
    "def train_and_eval(df_input, label):\n",
    "    X = df_input.drop(columns=[target_col])\n",
    "    y = df_input[target_col]\n",
    "    X_train, X_val, y_train, y_val = train_test_split(X, y, test_size=0.2, random_state=42)\n",
    "\n",
    "    model = XGBRegressor(objective=\"reg:squarederror\", n_estimators=300, learning_rate=0.1, max_depth=5)\n",
    "    model.fit(X_train, y_train)\n",
    "\n",
    "    y_pred = model.predict(X_val)\n",
    "    rmse = np.sqrt(mean_squared_error(y_val, y_pred))\n",
    "    print(f\"✅ {label} RMSE: {rmse:.4f}\")\n",
    "    return rmse"
   ]
  },
  {
   "cell_type": "code",
   "execution_count": 63,
   "id": "47a40166",
   "metadata": {},
   "outputs": [
    {
     "name": "stdout",
     "output_type": "stream",
     "text": [
      "🔍 Evaluating without seasonal features...\n",
      "✅ Without seasonal features RMSE: 245.5917\n"
     ]
    }
   ],
   "source": [
    "df_no_seasonal = df.drop(columns=[\"date\", \"ID\", \"cluster_id\"])\n",
    "print(\"🔍 Evaluating without seasonal features...\")\n",
    "rmse_plain = train_and_eval(df_no_seasonal, \"Without seasonal features\")"
   ]
  },
  {
   "cell_type": "code",
   "execution_count": 64,
   "id": "8f2308bd",
   "metadata": {},
   "outputs": [
    {
     "data": {
      "text/html": [
       "<div>\n",
       "<style scoped>\n",
       "    .dataframe tbody tr th:only-of-type {\n",
       "        vertical-align: middle;\n",
       "    }\n",
       "\n",
       "    .dataframe tbody tr th {\n",
       "        vertical-align: top;\n",
       "    }\n",
       "\n",
       "    .dataframe thead th {\n",
       "        text-align: right;\n",
       "    }\n",
       "</style>\n",
       "<table border=\"1\" class=\"dataframe\">\n",
       "  <thead>\n",
       "    <tr style=\"text-align: right;\">\n",
       "      <th></th>\n",
       "      <th>ID</th>\n",
       "      <th>cluster_id</th>\n",
       "      <th>electricity_consumption</th>\n",
       "      <th>temperature_2m_max</th>\n",
       "      <th>temperature_2m_min</th>\n",
       "      <th>sunshine_duration</th>\n",
       "      <th>daylight_duration</th>\n",
       "      <th>wind_speed_10m_max</th>\n",
       "      <th>wind_direction_10m_dominant</th>\n",
       "      <th>month</th>\n",
       "      <th>dayofweek</th>\n",
       "      <th>quarter</th>\n",
       "      <th>day</th>\n",
       "      <th>weekofyear</th>\n",
       "    </tr>\n",
       "  </thead>\n",
       "  <tbody>\n",
       "    <tr>\n",
       "      <th>0</th>\n",
       "      <td>cluster_1_2014-01-01</td>\n",
       "      <td>cluster_1</td>\n",
       "      <td>358.032</td>\n",
       "      <td>10.8</td>\n",
       "      <td>4.2</td>\n",
       "      <td>53.003333</td>\n",
       "      <td>29787.533333</td>\n",
       "      <td>40.6</td>\n",
       "      <td>186.000000</td>\n",
       "      <td>1</td>\n",
       "      <td>2</td>\n",
       "      <td>1</td>\n",
       "      <td>1</td>\n",
       "      <td>1</td>\n",
       "    </tr>\n",
       "    <tr>\n",
       "      <th>1</th>\n",
       "      <td>cluster_2_2014-01-01</td>\n",
       "      <td>cluster_2</td>\n",
       "      <td>548.247</td>\n",
       "      <td>12.2</td>\n",
       "      <td>4.3</td>\n",
       "      <td>8195.656667</td>\n",
       "      <td>30650.350000</td>\n",
       "      <td>36.0</td>\n",
       "      <td>170.591118</td>\n",
       "      <td>1</td>\n",
       "      <td>2</td>\n",
       "      <td>1</td>\n",
       "      <td>1</td>\n",
       "      <td>1</td>\n",
       "    </tr>\n",
       "    <tr>\n",
       "      <th>2</th>\n",
       "      <td>cluster_3_2014-01-01</td>\n",
       "      <td>cluster_3</td>\n",
       "      <td>758.303</td>\n",
       "      <td>12.9</td>\n",
       "      <td>-0.8</td>\n",
       "      <td>16305.260000</td>\n",
       "      <td>31547.686667</td>\n",
       "      <td>20.9</td>\n",
       "      <td>159.467752</td>\n",
       "      <td>1</td>\n",
       "      <td>2</td>\n",
       "      <td>1</td>\n",
       "      <td>1</td>\n",
       "      <td>1</td>\n",
       "    </tr>\n",
       "    <tr>\n",
       "      <th>3</th>\n",
       "      <td>cluster_4_2014-01-01</td>\n",
       "      <td>cluster_4</td>\n",
       "      <td>1072.077</td>\n",
       "      <td>10.8</td>\n",
       "      <td>4.7</td>\n",
       "      <td>9224.803333</td>\n",
       "      <td>30769.220000</td>\n",
       "      <td>34.7</td>\n",
       "      <td>184.339753</td>\n",
       "      <td>1</td>\n",
       "      <td>2</td>\n",
       "      <td>1</td>\n",
       "      <td>1</td>\n",
       "      <td>1</td>\n",
       "    </tr>\n",
       "    <tr>\n",
       "      <th>4</th>\n",
       "      <td>cluster_1_2014-01-02</td>\n",
       "      <td>cluster_1</td>\n",
       "      <td>386.908</td>\n",
       "      <td>10.7</td>\n",
       "      <td>7.0</td>\n",
       "      <td>22372.000000</td>\n",
       "      <td>29850.226667</td>\n",
       "      <td>34.3</td>\n",
       "      <td>210.333465</td>\n",
       "      <td>1</td>\n",
       "      <td>3</td>\n",
       "      <td>1</td>\n",
       "      <td>2</td>\n",
       "      <td>1</td>\n",
       "    </tr>\n",
       "  </tbody>\n",
       "</table>\n",
       "</div>"
      ],
      "text/plain": [
       "                     ID cluster_id  electricity_consumption  \\\n",
       "0  cluster_1_2014-01-01  cluster_1                  358.032   \n",
       "1  cluster_2_2014-01-01  cluster_2                  548.247   \n",
       "2  cluster_3_2014-01-01  cluster_3                  758.303   \n",
       "3  cluster_4_2014-01-01  cluster_4                 1072.077   \n",
       "4  cluster_1_2014-01-02  cluster_1                  386.908   \n",
       "\n",
       "   temperature_2m_max  temperature_2m_min  sunshine_duration  \\\n",
       "0                10.8                 4.2          53.003333   \n",
       "1                12.2                 4.3        8195.656667   \n",
       "2                12.9                -0.8       16305.260000   \n",
       "3                10.8                 4.7        9224.803333   \n",
       "4                10.7                 7.0       22372.000000   \n",
       "\n",
       "   daylight_duration  wind_speed_10m_max  wind_direction_10m_dominant  month  \\\n",
       "0       29787.533333                40.6                   186.000000      1   \n",
       "1       30650.350000                36.0                   170.591118      1   \n",
       "2       31547.686667                20.9                   159.467752      1   \n",
       "3       30769.220000                34.7                   184.339753      1   \n",
       "4       29850.226667                34.3                   210.333465      1   \n",
       "\n",
       "   dayofweek  quarter  day  weekofyear  \n",
       "0          2        1    1           1  \n",
       "1          2        1    1           1  \n",
       "2          2        1    1           1  \n",
       "3          2        1    1           1  \n",
       "4          3        1    2           1  "
      ]
     },
     "execution_count": 64,
     "metadata": {},
     "output_type": "execute_result"
    }
   ],
   "source": [
    "df_with_seasonal.head()"
   ]
  },
  {
   "cell_type": "code",
   "execution_count": 65,
   "id": "6507d01f",
   "metadata": {},
   "outputs": [
    {
     "name": "stdout",
     "output_type": "stream",
     "text": [
      "<class 'pandas.core.frame.DataFrame'>\n",
      "RangeIndex: 11688 entries, 0 to 11687\n",
      "Data columns (total 14 columns):\n",
      " #   Column                       Non-Null Count  Dtype  \n",
      "---  ------                       --------------  -----  \n",
      " 0   ID                           11688 non-null  object \n",
      " 1   cluster_id                   11688 non-null  object \n",
      " 2   electricity_consumption      11688 non-null  float64\n",
      " 3   temperature_2m_max           11688 non-null  float64\n",
      " 4   temperature_2m_min           11688 non-null  float64\n",
      " 5   sunshine_duration            11688 non-null  float64\n",
      " 6   daylight_duration            11688 non-null  float64\n",
      " 7   wind_speed_10m_max           11688 non-null  float64\n",
      " 8   wind_direction_10m_dominant  11688 non-null  float64\n",
      " 9   month                        11688 non-null  int64  \n",
      " 10  dayofweek                    11688 non-null  int64  \n",
      " 11  quarter                      11688 non-null  int64  \n",
      " 12  day                          11688 non-null  int64  \n",
      " 13  weekofyear                   11688 non-null  int64  \n",
      "dtypes: float64(7), int64(5), object(2)\n",
      "memory usage: 1.2+ MB\n"
     ]
    }
   ],
   "source": [
    "df_with_seasonal.info()"
   ]
  },
  {
   "cell_type": "code",
   "execution_count": 66,
   "id": "3df8fdd6",
   "metadata": {},
   "outputs": [
    {
     "name": "stdout",
     "output_type": "stream",
     "text": [
      "\n",
      "🔁 Evaluating with seasonal features...\n",
      "✅ With seasonal features RMSE: 220.7772\n"
     ]
    }
   ],
   "source": [
    "df_with_seasonal = df_with_seasonal.drop(columns=[\"ID\", \"cluster_id\"])\n",
    "print(\"\\n🔁 Evaluating with seasonal features...\")\n",
    "rmse_seasonal = train_and_eval(df_with_seasonal, \"With seasonal features\")"
   ]
  }
 ],
 "metadata": {
  "kernelspec": {
   "display_name": "base",
   "language": "python",
   "name": "python3"
  },
  "language_info": {
   "codemirror_mode": {
    "name": "ipython",
    "version": 3
   },
   "file_extension": ".py",
   "mimetype": "text/x-python",
   "name": "python",
   "nbconvert_exporter": "python",
   "pygments_lexer": "ipython3",
   "version": "3.12.3"
  }
 },
 "nbformat": 4,
 "nbformat_minor": 5
}
