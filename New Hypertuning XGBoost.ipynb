{
 "cells": [
  {
   "cell_type": "code",
   "execution_count": 3,
   "id": "5886ae71",
   "metadata": {},
   "outputs": [
    {
     "name": "stderr",
     "output_type": "stream",
     "text": [
      "Intel(R) Extension for Scikit-learn* enabled (https://github.com/intel/scikit-learn-intelex)\n"
     ]
    }
   ],
   "source": [
    "from sklearnex import patch_sklearn\n",
    "patch_sklearn()\n",
    "\n",
    "import pandas as pd\n",
    "import seaborn as sns\n",
    "from xgboost import XGBRegressor\n",
    "from sklearn.metrics import mean_squared_error\n",
    "import numpy as np\n",
    "import matplotlib.pyplot as plt\n",
    "from sklearn.model_selection import train_test_split, RandomizedSearchCV\n",
    "from sklearn.metrics import make_scorer\n",
    "import time\n",
    "from sklearn.preprocessing import LabelEncoder"
   ]
  },
  {
   "cell_type": "code",
   "execution_count": 6,
   "id": "30a7e13d",
   "metadata": {},
   "outputs": [],
   "source": [
    "train = pd.read_csv(\"train_with_seasonal_cluster.csv\")\n",
    "test = pd.read_csv(\"test_with_seasonal_cluster.csv\")"
   ]
  },
  {
   "cell_type": "code",
   "execution_count": 7,
   "id": "81de444e",
   "metadata": {},
   "outputs": [],
   "source": [
    "param_dist = {\n",
    "    'n_estimators': [100, 300, 500, 800],\n",
    "    'max_depth': [3, 5, 7, 10],\n",
    "    'learning_rate': [0.01, 0.05, 0.1, 0.2],\n",
    "    'subsample': [0.6, 0.8, 1.0],\n",
    "    'colsample_bytree': [0.6, 0.8, 1.0],\n",
    "    'gamma': [0, 1, 5],\n",
    "    'min_child_weight': [1, 3, 5]\n",
    "}"
   ]
  },
  {
   "cell_type": "code",
   "execution_count": 11,
   "id": "02b6f09d",
   "metadata": {},
   "outputs": [],
   "source": [
    "target_col = \"electricity_consumption\""
   ]
  },
  {
   "cell_type": "code",
   "execution_count": null,
   "id": "25e9efbf",
   "metadata": {},
   "outputs": [],
   "source": [
    "def train_and_eval_tuned(df_input, label):\n",
    "    X = df_input.drop(columns=[target_col])\n",
    "    y = df_input[target_col]\n",
    "    X_train, X_val, y_train, y_val = train_test_split(X, y, test_size=0.2, random_state=42)\n",
    "\n",
    "    xgb = XGBRegressor(objective=\"reg:squarederror\", random_state=42)\n",
    "\n",
    "    # Use RandomizedSearchCV\n",
    "    random_search = RandomizedSearchCV(\n",
    "        estimator=xgb,\n",
    "        param_distributions=param_dist,\n",
    "        n_iter=50,  \n",
    "        scoring='neg_root_mean_squared_error',\n",
    "        cv=3,\n",
    "        verbose=1,\n",
    "        random_state=42,\n",
    "        n_jobs=-1\n",
    "    )\n",
    "\n",
    "    random_search.fit(X_train, y_train)\n",
    "    best_model = random_search.best_estimator_\n",
    "\n",
    "    y_pred = best_model.predict(X_val)\n",
    "    rmse = np.sqrt(mean_squared_error(y_val, y_pred))\n",
    "    print(f\"Tuned {label} RMSE: {rmse:.4f}\")\n",
    "    print(f\"Best params: {random_search.best_params_}\")\n",
    "\n",
    "    return best_model"
   ]
  },
  {
   "cell_type": "code",
   "execution_count": 19,
   "id": "8b7d11de",
   "metadata": {},
   "outputs": [],
   "source": [
    "train_cluster_date = train.drop(columns=[\"ID\"])"
   ]
  },
  {
   "cell_type": "code",
   "execution_count": 20,
   "id": "b417a005",
   "metadata": {},
   "outputs": [
    {
     "name": "stdout",
     "output_type": "stream",
     "text": [
      "Fitting 3 folds for each of 50 candidates, totalling 150 fits\n",
      "Tuned With seasonal and clusterid features RMSE: 27.9672\n",
      "Best params: {'subsample': 0.6, 'n_estimators': 800, 'min_child_weight': 1, 'max_depth': 5, 'learning_rate': 0.05, 'gamma': 0, 'colsample_bytree': 0.6}\n"
     ]
    }
   ],
   "source": [
    "model = train_and_eval_tuned(train_cluster_date, \"With seasonal and clusterid features\")"
   ]
  },
  {
   "cell_type": "code",
   "execution_count": 21,
   "id": "578ccc11",
   "metadata": {},
   "outputs": [],
   "source": [
    "X_test = test.drop(columns=[\"ID\"]) "
   ]
  },
  {
   "cell_type": "code",
   "execution_count": 22,
   "id": "62a72051",
   "metadata": {},
   "outputs": [],
   "source": [
    "y_test_pred = model.predict(X_test)"
   ]
  },
  {
   "cell_type": "code",
   "execution_count": 23,
   "id": "0fc146da",
   "metadata": {},
   "outputs": [],
   "source": [
    "submission = pd.DataFrame({\n",
    "    \"ID\": test[\"ID\"],\n",
    "    \"electricity_consumption\": y_test_pred\n",
    "})\n",
    "submission.to_csv(\"submission8_50can.csv\", index=False)"
   ]
  },
  {
   "cell_type": "code",
   "execution_count": null,
   "id": "8b387369",
   "metadata": {},
   "outputs": [],
   "source": []
  }
 ],
 "metadata": {
  "kernelspec": {
   "display_name": "base",
   "language": "python",
   "name": "python3"
  },
  "language_info": {
   "codemirror_mode": {
    "name": "ipython",
    "version": 3
   },
   "file_extension": ".py",
   "mimetype": "text/x-python",
   "name": "python",
   "nbconvert_exporter": "python",
   "pygments_lexer": "ipython3",
   "version": "3.12.3"
  }
 },
 "nbformat": 4,
 "nbformat_minor": 5
}
