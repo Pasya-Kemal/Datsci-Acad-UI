{
 "cells": [
  {
   "cell_type": "code",
   "execution_count": 3,
   "id": "76ee307f",
   "metadata": {},
   "outputs": [],
   "source": [
    "import pandas as pd\n",
    "import seaborn as sns\n",
    "import numpy as np\n",
    "import matplotlib.pyplot as plt"
   ]
  },
  {
   "cell_type": "code",
   "execution_count": 4,
   "id": "2d991588",
   "metadata": {},
   "outputs": [],
   "source": [
    "from sklearn.metrics import mean_squared_error"
   ]
  },
  {
   "cell_type": "code",
   "execution_count": 5,
   "id": "c6f40721",
   "metadata": {},
   "outputs": [
    {
     "data": {
      "text/html": [
       "<div>\n",
       "<style scoped>\n",
       "    .dataframe tbody tr th:only-of-type {\n",
       "        vertical-align: middle;\n",
       "    }\n",
       "\n",
       "    .dataframe tbody tr th {\n",
       "        vertical-align: top;\n",
       "    }\n",
       "\n",
       "    .dataframe thead th {\n",
       "        text-align: right;\n",
       "    }\n",
       "</style>\n",
       "<table border=\"1\" class=\"dataframe\">\n",
       "  <thead>\n",
       "    <tr style=\"text-align: right;\">\n",
       "      <th></th>\n",
       "      <th>ID</th>\n",
       "      <th>date</th>\n",
       "      <th>cluster_id</th>\n",
       "      <th>electricity_consumption</th>\n",
       "      <th>temperature_2m_max</th>\n",
       "      <th>temperature_2m_min</th>\n",
       "      <th>apparent_temperature_max</th>\n",
       "      <th>apparent_temperature_min</th>\n",
       "      <th>sunshine_duration</th>\n",
       "      <th>daylight_duration</th>\n",
       "      <th>wind_speed_10m_max</th>\n",
       "      <th>wind_gusts_10m_max</th>\n",
       "      <th>wind_direction_10m_dominant</th>\n",
       "      <th>shortwave_radiation_sum</th>\n",
       "      <th>et0_fao_evapotranspiration</th>\n",
       "    </tr>\n",
       "  </thead>\n",
       "  <tbody>\n",
       "    <tr>\n",
       "      <th>0</th>\n",
       "      <td>cluster_1_2014-01-01</td>\n",
       "      <td>2014-01-01</td>\n",
       "      <td>cluster_1</td>\n",
       "      <td>358.032</td>\n",
       "      <td>10.8</td>\n",
       "      <td>4.2</td>\n",
       "      <td>5.5</td>\n",
       "      <td>0.4</td>\n",
       "      <td>53.003333</td>\n",
       "      <td>29787.533333</td>\n",
       "      <td>40.6</td>\n",
       "      <td>79.2</td>\n",
       "      <td>186.000000</td>\n",
       "      <td>1.176667</td>\n",
       "      <td>0.483333</td>\n",
       "    </tr>\n",
       "    <tr>\n",
       "      <th>1</th>\n",
       "      <td>cluster_2_2014-01-01</td>\n",
       "      <td>2014-01-01</td>\n",
       "      <td>cluster_2</td>\n",
       "      <td>548.247</td>\n",
       "      <td>12.2</td>\n",
       "      <td>4.3</td>\n",
       "      <td>8.6</td>\n",
       "      <td>-0.4</td>\n",
       "      <td>8195.656667</td>\n",
       "      <td>30650.350000</td>\n",
       "      <td>36.0</td>\n",
       "      <td>81.7</td>\n",
       "      <td>170.591118</td>\n",
       "      <td>3.383333</td>\n",
       "      <td>0.736667</td>\n",
       "    </tr>\n",
       "    <tr>\n",
       "      <th>2</th>\n",
       "      <td>cluster_3_2014-01-01</td>\n",
       "      <td>2014-01-01</td>\n",
       "      <td>cluster_3</td>\n",
       "      <td>758.303</td>\n",
       "      <td>12.9</td>\n",
       "      <td>-0.8</td>\n",
       "      <td>10.1</td>\n",
       "      <td>-4.9</td>\n",
       "      <td>16305.260000</td>\n",
       "      <td>31547.686667</td>\n",
       "      <td>20.9</td>\n",
       "      <td>44.3</td>\n",
       "      <td>159.467752</td>\n",
       "      <td>3.880000</td>\n",
       "      <td>0.716667</td>\n",
       "    </tr>\n",
       "    <tr>\n",
       "      <th>3</th>\n",
       "      <td>cluster_4_2014-01-01</td>\n",
       "      <td>2014-01-01</td>\n",
       "      <td>cluster_4</td>\n",
       "      <td>1072.077</td>\n",
       "      <td>10.8</td>\n",
       "      <td>4.7</td>\n",
       "      <td>6.7</td>\n",
       "      <td>0.6</td>\n",
       "      <td>9224.803333</td>\n",
       "      <td>30769.220000</td>\n",
       "      <td>34.7</td>\n",
       "      <td>82.8</td>\n",
       "      <td>184.339753</td>\n",
       "      <td>3.153333</td>\n",
       "      <td>0.676667</td>\n",
       "    </tr>\n",
       "    <tr>\n",
       "      <th>4</th>\n",
       "      <td>cluster_1_2014-01-02</td>\n",
       "      <td>2014-01-02</td>\n",
       "      <td>cluster_1</td>\n",
       "      <td>386.908</td>\n",
       "      <td>10.7</td>\n",
       "      <td>7.0</td>\n",
       "      <td>6.6</td>\n",
       "      <td>3.3</td>\n",
       "      <td>22372.000000</td>\n",
       "      <td>29850.226667</td>\n",
       "      <td>34.3</td>\n",
       "      <td>75.2</td>\n",
       "      <td>210.333465</td>\n",
       "      <td>3.640000</td>\n",
       "      <td>0.780000</td>\n",
       "    </tr>\n",
       "  </tbody>\n",
       "</table>\n",
       "</div>"
      ],
      "text/plain": [
       "                     ID        date cluster_id  electricity_consumption  \\\n",
       "0  cluster_1_2014-01-01  2014-01-01  cluster_1                  358.032   \n",
       "1  cluster_2_2014-01-01  2014-01-01  cluster_2                  548.247   \n",
       "2  cluster_3_2014-01-01  2014-01-01  cluster_3                  758.303   \n",
       "3  cluster_4_2014-01-01  2014-01-01  cluster_4                 1072.077   \n",
       "4  cluster_1_2014-01-02  2014-01-02  cluster_1                  386.908   \n",
       "\n",
       "   temperature_2m_max  temperature_2m_min  apparent_temperature_max  \\\n",
       "0                10.8                 4.2                       5.5   \n",
       "1                12.2                 4.3                       8.6   \n",
       "2                12.9                -0.8                      10.1   \n",
       "3                10.8                 4.7                       6.7   \n",
       "4                10.7                 7.0                       6.6   \n",
       "\n",
       "   apparent_temperature_min  sunshine_duration  daylight_duration  \\\n",
       "0                       0.4          53.003333       29787.533333   \n",
       "1                      -0.4        8195.656667       30650.350000   \n",
       "2                      -4.9       16305.260000       31547.686667   \n",
       "3                       0.6        9224.803333       30769.220000   \n",
       "4                       3.3       22372.000000       29850.226667   \n",
       "\n",
       "   wind_speed_10m_max  wind_gusts_10m_max  wind_direction_10m_dominant  \\\n",
       "0                40.6                79.2                   186.000000   \n",
       "1                36.0                81.7                   170.591118   \n",
       "2                20.9                44.3                   159.467752   \n",
       "3                34.7                82.8                   184.339753   \n",
       "4                34.3                75.2                   210.333465   \n",
       "\n",
       "   shortwave_radiation_sum  et0_fao_evapotranspiration  \n",
       "0                 1.176667                    0.483333  \n",
       "1                 3.383333                    0.736667  \n",
       "2                 3.880000                    0.716667  \n",
       "3                 3.153333                    0.676667  \n",
       "4                 3.640000                    0.780000  "
      ]
     },
     "execution_count": 5,
     "metadata": {},
     "output_type": "execute_result"
    }
   ],
   "source": [
    "train = pd.read_csv('train.csv')\n",
    "train.head()"
   ]
  },
  {
   "cell_type": "code",
   "execution_count": 6,
   "id": "e102beec",
   "metadata": {},
   "outputs": [],
   "source": [
    "train.drop(columns=['date', 'cluster_id'], inplace=True)"
   ]
  },
  {
   "cell_type": "markdown",
   "id": "482f1445",
   "metadata": {},
   "source": [
    "### Multicollinearity"
   ]
  },
  {
   "cell_type": "code",
   "execution_count": 7,
   "id": "bfc914a8",
   "metadata": {},
   "outputs": [
    {
     "name": "stdout",
     "output_type": "stream",
     "text": [
      "Kolom dengan korelasi tinggi:\n",
      "temperature_2m_max - apparent_temperature_max: 0.989\n",
      "temperature_2m_min - apparent_temperature_min: 0.990\n",
      "sunshine_duration - shortwave_radiation_sum: 0.923\n",
      "wind_speed_10m_max - wind_gusts_10m_max: 0.965\n",
      "shortwave_radiation_sum - et0_fao_evapotranspiration: 0.953\n"
     ]
    }
   ],
   "source": [
    "# Compute absolute correlation matrix for numerical features only\n",
    "numerical_data = train.select_dtypes(include=['number'])  # Exclude non-numeric columns\n",
    "corr_matrix = numerical_data.corr().abs()\n",
    "\n",
    "excluded_columns = ['ID', 'electricity_consumption']\n",
    "\n",
    "high_corr_pairs = []\n",
    "columns = corr_matrix.columns\n",
    "\n",
    "# Find highly correlated feature pairs (correlation > 0.9), but exclude selected columns from being dropped\n",
    "for i in range(len(columns)):\n",
    "    for j in range(i + 1, len(columns)):  # Only upper triangle\n",
    "        col1, col2 = columns[i], columns[j]\n",
    "        if col1 not in excluded_columns and col2 not in excluded_columns:\n",
    "            if corr_matrix.loc[col1, col2] > 0.9:\n",
    "                high_corr_pairs.append((col1, col2, corr_matrix.loc[col1, col2]))\n",
    "\n",
    "print(\"Kolom dengan korelasi tinggi:\")\n",
    "for pair in high_corr_pairs:\n",
    "    print(f\"{pair[0]} - {pair[1]}: {pair[2]:.3f}\")"
   ]
  },
  {
   "cell_type": "code",
   "execution_count": 8,
   "id": "2dba3063",
   "metadata": {},
   "outputs": [
    {
     "name": "stdout",
     "output_type": "stream",
     "text": [
      "Dropped columns: {'shortwave_radiation_sum', 'et0_fao_evapotranspiration', 'apparent_temperature_max', 'wind_gusts_10m_max', 'apparent_temperature_min'}\n"
     ]
    }
   ],
   "source": [
    "to_drop = set()\n",
    "for i, j, _ in high_corr_pairs:\n",
    "    to_drop.add(j)  \n",
    "\n",
    "train = train.drop(columns=to_drop)\n",
    "\n",
    "print(\"Dropped columns:\", to_drop)"
   ]
  },
  {
   "cell_type": "code",
   "execution_count": 9,
   "id": "fe43f3b6",
   "metadata": {},
   "outputs": [
    {
     "data": {
      "text/html": [
       "<div>\n",
       "<style scoped>\n",
       "    .dataframe tbody tr th:only-of-type {\n",
       "        vertical-align: middle;\n",
       "    }\n",
       "\n",
       "    .dataframe tbody tr th {\n",
       "        vertical-align: top;\n",
       "    }\n",
       "\n",
       "    .dataframe thead th {\n",
       "        text-align: right;\n",
       "    }\n",
       "</style>\n",
       "<table border=\"1\" class=\"dataframe\">\n",
       "  <thead>\n",
       "    <tr style=\"text-align: right;\">\n",
       "      <th></th>\n",
       "      <th>ID</th>\n",
       "      <th>electricity_consumption</th>\n",
       "      <th>temperature_2m_max</th>\n",
       "      <th>temperature_2m_min</th>\n",
       "      <th>sunshine_duration</th>\n",
       "      <th>daylight_duration</th>\n",
       "      <th>wind_speed_10m_max</th>\n",
       "      <th>wind_direction_10m_dominant</th>\n",
       "    </tr>\n",
       "  </thead>\n",
       "  <tbody>\n",
       "    <tr>\n",
       "      <th>0</th>\n",
       "      <td>cluster_1_2014-01-01</td>\n",
       "      <td>358.032</td>\n",
       "      <td>10.8</td>\n",
       "      <td>4.2</td>\n",
       "      <td>53.003333</td>\n",
       "      <td>29787.533333</td>\n",
       "      <td>40.6</td>\n",
       "      <td>186.000000</td>\n",
       "    </tr>\n",
       "    <tr>\n",
       "      <th>1</th>\n",
       "      <td>cluster_2_2014-01-01</td>\n",
       "      <td>548.247</td>\n",
       "      <td>12.2</td>\n",
       "      <td>4.3</td>\n",
       "      <td>8195.656667</td>\n",
       "      <td>30650.350000</td>\n",
       "      <td>36.0</td>\n",
       "      <td>170.591118</td>\n",
       "    </tr>\n",
       "    <tr>\n",
       "      <th>2</th>\n",
       "      <td>cluster_3_2014-01-01</td>\n",
       "      <td>758.303</td>\n",
       "      <td>12.9</td>\n",
       "      <td>-0.8</td>\n",
       "      <td>16305.260000</td>\n",
       "      <td>31547.686667</td>\n",
       "      <td>20.9</td>\n",
       "      <td>159.467752</td>\n",
       "    </tr>\n",
       "    <tr>\n",
       "      <th>3</th>\n",
       "      <td>cluster_4_2014-01-01</td>\n",
       "      <td>1072.077</td>\n",
       "      <td>10.8</td>\n",
       "      <td>4.7</td>\n",
       "      <td>9224.803333</td>\n",
       "      <td>30769.220000</td>\n",
       "      <td>34.7</td>\n",
       "      <td>184.339753</td>\n",
       "    </tr>\n",
       "    <tr>\n",
       "      <th>4</th>\n",
       "      <td>cluster_1_2014-01-02</td>\n",
       "      <td>386.908</td>\n",
       "      <td>10.7</td>\n",
       "      <td>7.0</td>\n",
       "      <td>22372.000000</td>\n",
       "      <td>29850.226667</td>\n",
       "      <td>34.3</td>\n",
       "      <td>210.333465</td>\n",
       "    </tr>\n",
       "  </tbody>\n",
       "</table>\n",
       "</div>"
      ],
      "text/plain": [
       "                     ID  electricity_consumption  temperature_2m_max  \\\n",
       "0  cluster_1_2014-01-01                  358.032                10.8   \n",
       "1  cluster_2_2014-01-01                  548.247                12.2   \n",
       "2  cluster_3_2014-01-01                  758.303                12.9   \n",
       "3  cluster_4_2014-01-01                 1072.077                10.8   \n",
       "4  cluster_1_2014-01-02                  386.908                10.7   \n",
       "\n",
       "   temperature_2m_min  sunshine_duration  daylight_duration  \\\n",
       "0                 4.2          53.003333       29787.533333   \n",
       "1                 4.3        8195.656667       30650.350000   \n",
       "2                -0.8       16305.260000       31547.686667   \n",
       "3                 4.7        9224.803333       30769.220000   \n",
       "4                 7.0       22372.000000       29850.226667   \n",
       "\n",
       "   wind_speed_10m_max  wind_direction_10m_dominant  \n",
       "0                40.6                   186.000000  \n",
       "1                36.0                   170.591118  \n",
       "2                20.9                   159.467752  \n",
       "3                34.7                   184.339753  \n",
       "4                34.3                   210.333465  "
      ]
     },
     "execution_count": 9,
     "metadata": {},
     "output_type": "execute_result"
    }
   ],
   "source": [
    "train.head()"
   ]
  },
  {
   "cell_type": "code",
   "execution_count": 10,
   "id": "22faec5a",
   "metadata": {},
   "outputs": [],
   "source": [
    "output_filename = \"train_filtered2.csv\"\n",
    "train.to_csv(output_filename, index=False)"
   ]
  },
  {
   "cell_type": "code",
   "execution_count": 11,
   "id": "e51032cf",
   "metadata": {},
   "outputs": [],
   "source": [
    "test = pd.read_csv('test.csv')"
   ]
  },
  {
   "cell_type": "code",
   "execution_count": 12,
   "id": "b3125c17",
   "metadata": {},
   "outputs": [],
   "source": [
    "test.drop(columns=['date', 'cluster_id'], inplace=True)"
   ]
  },
  {
   "cell_type": "code",
   "execution_count": 13,
   "id": "a6f0d7be",
   "metadata": {},
   "outputs": [
    {
     "name": "stdout",
     "output_type": "stream",
     "text": [
      "Kolom dengan korelasi tinggi:\n",
      "temperature_2m_max - apparent_temperature_max: 0.990\n",
      "temperature_2m_min - apparent_temperature_min: 0.990\n",
      "sunshine_duration - shortwave_radiation_sum: 0.934\n",
      "daylight_duration - shortwave_radiation_sum: 0.917\n",
      "wind_speed_10m_max - wind_gusts_10m_max: 0.984\n",
      "shortwave_radiation_sum - et0_fao_evapotranspiration: 0.951\n"
     ]
    }
   ],
   "source": [
    "# Compute absolute correlation matrix for numerical features only\n",
    "numerical_data = test.select_dtypes(include=['number'])  # Exclude non-numeric columns\n",
    "corr_matrix = numerical_data.corr().abs()\n",
    "\n",
    "excluded_columns = ['ID', 'electricity_consumption']\n",
    "\n",
    "high_corr_pairs = []\n",
    "columns = corr_matrix.columns\n",
    "\n",
    "# Find highly correlated feature pairs (correlation > 0.9), but exclude selected columns from being dropped\n",
    "for i in range(len(columns)):\n",
    "    for j in range(i + 1, len(columns)):  # Only upper triangle\n",
    "        col1, col2 = columns[i], columns[j]\n",
    "        if col1 not in excluded_columns and col2 not in excluded_columns:\n",
    "            if corr_matrix.loc[col1, col2] > 0.9:\n",
    "                high_corr_pairs.append((col1, col2, corr_matrix.loc[col1, col2]))\n",
    "\n",
    "print(\"Kolom dengan korelasi tinggi:\")\n",
    "for pair in high_corr_pairs:\n",
    "    print(f\"{pair[0]} - {pair[1]}: {pair[2]:.3f}\")"
   ]
  },
  {
   "cell_type": "code",
   "execution_count": 14,
   "id": "59e96759",
   "metadata": {},
   "outputs": [
    {
     "name": "stdout",
     "output_type": "stream",
     "text": [
      "Dropped columns: {'shortwave_radiation_sum', 'et0_fao_evapotranspiration', 'apparent_temperature_max', 'wind_gusts_10m_max', 'apparent_temperature_min'}\n"
     ]
    }
   ],
   "source": [
    "to_drop = set()\n",
    "for i, j, _ in high_corr_pairs:\n",
    "    to_drop.add(j)  \n",
    "\n",
    "test = test.drop(columns=to_drop)\n",
    "\n",
    "print(\"Dropped columns:\", to_drop)"
   ]
  },
  {
   "cell_type": "code",
   "execution_count": 15,
   "id": "c697bc2e",
   "metadata": {},
   "outputs": [
    {
     "data": {
      "text/html": [
       "<div>\n",
       "<style scoped>\n",
       "    .dataframe tbody tr th:only-of-type {\n",
       "        vertical-align: middle;\n",
       "    }\n",
       "\n",
       "    .dataframe tbody tr th {\n",
       "        vertical-align: top;\n",
       "    }\n",
       "\n",
       "    .dataframe thead th {\n",
       "        text-align: right;\n",
       "    }\n",
       "</style>\n",
       "<table border=\"1\" class=\"dataframe\">\n",
       "  <thead>\n",
       "    <tr style=\"text-align: right;\">\n",
       "      <th></th>\n",
       "      <th>ID</th>\n",
       "      <th>temperature_2m_max</th>\n",
       "      <th>temperature_2m_min</th>\n",
       "      <th>sunshine_duration</th>\n",
       "      <th>daylight_duration</th>\n",
       "      <th>wind_speed_10m_max</th>\n",
       "      <th>wind_direction_10m_dominant</th>\n",
       "    </tr>\n",
       "  </thead>\n",
       "  <tbody>\n",
       "    <tr>\n",
       "      <th>0</th>\n",
       "      <td>cluster_1_2022-01-01</td>\n",
       "      <td>15.2</td>\n",
       "      <td>7.9</td>\n",
       "      <td>21902.986667</td>\n",
       "      <td>29784.506667</td>\n",
       "      <td>22.2</td>\n",
       "      <td>172.732245</td>\n",
       "    </tr>\n",
       "    <tr>\n",
       "      <th>1</th>\n",
       "      <td>cluster_2_2022-01-01</td>\n",
       "      <td>15.9</td>\n",
       "      <td>4.1</td>\n",
       "      <td>23550.080000</td>\n",
       "      <td>30647.540000</td>\n",
       "      <td>22.7</td>\n",
       "      <td>163.972679</td>\n",
       "    </tr>\n",
       "    <tr>\n",
       "      <th>2</th>\n",
       "      <td>cluster_3_2022-01-01</td>\n",
       "      <td>18.6</td>\n",
       "      <td>4.9</td>\n",
       "      <td>24179.643333</td>\n",
       "      <td>31545.103333</td>\n",
       "      <td>15.5</td>\n",
       "      <td>198.645137</td>\n",
       "    </tr>\n",
       "    <tr>\n",
       "      <th>3</th>\n",
       "      <td>cluster_4_2022-01-01</td>\n",
       "      <td>13.3</td>\n",
       "      <td>3.9</td>\n",
       "      <td>23839.203333</td>\n",
       "      <td>30766.446667</td>\n",
       "      <td>16.1</td>\n",
       "      <td>183.517316</td>\n",
       "    </tr>\n",
       "    <tr>\n",
       "      <th>4</th>\n",
       "      <td>cluster_1_2022-01-02</td>\n",
       "      <td>14.1</td>\n",
       "      <td>8.1</td>\n",
       "      <td>21018.193333</td>\n",
       "      <td>29847.110000</td>\n",
       "      <td>34.4</td>\n",
       "      <td>223.335840</td>\n",
       "    </tr>\n",
       "  </tbody>\n",
       "</table>\n",
       "</div>"
      ],
      "text/plain": [
       "                     ID  temperature_2m_max  temperature_2m_min  \\\n",
       "0  cluster_1_2022-01-01                15.2                 7.9   \n",
       "1  cluster_2_2022-01-01                15.9                 4.1   \n",
       "2  cluster_3_2022-01-01                18.6                 4.9   \n",
       "3  cluster_4_2022-01-01                13.3                 3.9   \n",
       "4  cluster_1_2022-01-02                14.1                 8.1   \n",
       "\n",
       "   sunshine_duration  daylight_duration  wind_speed_10m_max  \\\n",
       "0       21902.986667       29784.506667                22.2   \n",
       "1       23550.080000       30647.540000                22.7   \n",
       "2       24179.643333       31545.103333                15.5   \n",
       "3       23839.203333       30766.446667                16.1   \n",
       "4       21018.193333       29847.110000                34.4   \n",
       "\n",
       "   wind_direction_10m_dominant  \n",
       "0                   172.732245  \n",
       "1                   163.972679  \n",
       "2                   198.645137  \n",
       "3                   183.517316  \n",
       "4                   223.335840  "
      ]
     },
     "execution_count": 15,
     "metadata": {},
     "output_type": "execute_result"
    }
   ],
   "source": [
    "test.head()"
   ]
  },
  {
   "cell_type": "code",
   "execution_count": 16,
   "id": "e7e30e95",
   "metadata": {},
   "outputs": [],
   "source": [
    "output_filename = \"test_filtered2.csv\"\n",
    "test.to_csv(output_filename, index=False)"
   ]
  },
  {
   "cell_type": "markdown",
   "id": "6b2070bd",
   "metadata": {},
   "source": [
    "### SARIMA"
   ]
  },
  {
   "cell_type": "code",
   "execution_count": 17,
   "id": "19df44d9",
   "metadata": {},
   "outputs": [],
   "source": [
    "from statsmodels.tsa.stattools import adfuller"
   ]
  },
  {
   "cell_type": "code",
   "execution_count": 18,
   "id": "4ac51cf6",
   "metadata": {},
   "outputs": [],
   "source": [
    "train = pd.read_csv(\"train_filtered2.csv\")"
   ]
  },
  {
   "cell_type": "code",
   "execution_count": 19,
   "id": "cdeef7b3",
   "metadata": {},
   "outputs": [],
   "source": [
    "series = train['electricity_consumption']"
   ]
  },
  {
   "cell_type": "code",
   "execution_count": 20,
   "id": "546f518d",
   "metadata": {},
   "outputs": [
    {
     "name": "stdout",
     "output_type": "stream",
     "text": [
      "ADF Statistic: -4.505107400646319\n",
      "p-value: 0.00019250333851062278\n"
     ]
    }
   ],
   "source": [
    "result = adfuller(series)\n",
    "print(f\"ADF Statistic: {result[0]}\")\n",
    "print(f\"p-value: {result[1]}\")"
   ]
  },
  {
   "cell_type": "code",
   "execution_count": 21,
   "id": "51d8daf2",
   "metadata": {},
   "outputs": [],
   "source": [
    "from statsmodels.graphics.tsaplots import plot_acf, plot_pacf"
   ]
  },
  {
   "cell_type": "code",
   "execution_count": 22,
   "id": "297392c9",
   "metadata": {},
   "outputs": [
    {
     "data": {
      "image/png": "[encoded data removed]",
      "text/plain": [
       "<Figure size 640x480 with 1 Axes>"
      ]
     },
     "metadata": {},
     "output_type": "display_data"
    }
   ],
   "source": [
    "plot_acf(series, lags=20)\n",
    "plt.title(\"ACF Plot\")\n",
    "plt.show()"
   ]
  },
  {
   "cell_type": "code",
   "execution_count": 23,
   "id": "22bed350",
   "metadata": {},
   "outputs": [
    {
     "data": {
      "image/png": "[encoded data removed]",
      "text/plain": [
       "<Figure size 640x480 with 1 Axes>"
      ]
     },
     "metadata": {},
     "output_type": "display_data"
    }
   ],
   "source": [
    "plot_pacf(series, lags=20)\n",
    "plt.title(\"PACF Plot\")\n",
    "plt.show()"
   ]
  },
  {
   "cell_type": "markdown",
   "id": "a18f5ad3",
   "metadata": {},
   "source": [
    "ACF and PACF shows seasonality, hence why we chose to use SARIMA model (restarts every 4 lags)"
   ]
  },
  {
   "cell_type": "code",
   "execution_count": null,
   "id": "9a1bc0ed",
   "metadata": {},
   "outputs": [],
   "source": [
    "from statsmodels.tsa.statespace.sarimax import SARIMAX"
   ]
  },
  {
   "cell_type": "code",
   "execution_count": null,
   "id": "4fef24ac",
   "metadata": {},
   "outputs": [],
   "source": [
    "model = SARIMAX(\n",
    "    series,\n",
    "    order=(1, 0, 0),            # (p, d, q)\n",
    "    seasonal_order=(1, 0, 0, 4),# (P, D, Q, s)\n",
    "    enforce_stationarity=False,\n",
    "    enforce_invertibility=False\n",
    ")"
   ]
  },
  {
   "cell_type": "code",
   "execution_count": null,
   "id": "297959ce",
   "metadata": {},
   "outputs": [
    {
     "name": "stdout",
     "output_type": "stream",
     "text": [
      "                                     SARIMAX Results                                     \n",
      "=========================================================================================\n",
      "Dep. Variable:           electricity_consumption   No. Observations:                11688\n",
      "Model:             SARIMAX(1, 0, 0)x(1, 0, 0, 4)   Log Likelihood              -58550.369\n",
      "Date:                           Sat, 21 Jun 2025   AIC                         117106.739\n",
      "Time:                                   09:24:21   BIC                         117128.836\n",
      "Sample:                                        0   HQIC                        117114.161\n",
      "                                         - 11688                                         \n",
      "Covariance Type:                             opg                                         \n",
      "==============================================================================\n",
      "                 coef    std err          z      P>|z|      [0.025      0.975]\n",
      "------------------------------------------------------------------------------\n",
      "ar.L1          0.6551      0.004    169.869      0.000       0.647       0.663\n",
      "ar.S.L4        0.9960      0.001   1279.866      0.000       0.994       0.998\n",
      "sigma2      1319.9124     13.503     97.746      0.000    1293.446    1346.379\n",
      "===================================================================================\n",
      "Ljung-Box (L1) (Q):                  23.17   Jarque-Bera (JB):              1140.97\n",
      "Prob(Q):                              0.00   Prob(JB):                         0.00\n",
      "Heteroskedasticity (H):               0.78   Skew:                             0.29\n",
      "Prob(H) (two-sided):                  0.00   Kurtosis:                         4.41\n",
      "===================================================================================\n",
      "\n",
      "Warnings:\n",
      "[1] Covariance matrix calculated using the outer product of gradients (complex-step).\n"
     ]
    }
   ],
   "source": [
    "results = model.fit()\n",
    "print(results.summary())"
   ]
  },
  {
   "cell_type": "code",
   "execution_count": 24,
   "id": "a5bfdf6f",
   "metadata": {},
   "outputs": [],
   "source": [
    "train = pd.read_csv('train_filtered2.csv')\n",
    "test = pd.read_csv('test_filtered2.csv')"
   ]
  },
  {
   "cell_type": "code",
   "execution_count": null,
   "id": "78f4417d",
   "metadata": {},
   "outputs": [],
   "source": [
    "model = SARIMAX(train['electricity_consumption'], order=(1, 0, 0), seasonal_order=(1, 0, 0, 4),\n",
    "                enforce_stationarity=False, enforce_invertibility=False)\n",
    "results = model.fit()"
   ]
  },
  {
   "cell_type": "code",
   "execution_count": null,
   "id": "df1edd5a",
   "metadata": {},
   "outputs": [],
   "source": [
    "forecast = results.forecast(steps=len(test))"
   ]
  },
  {
   "cell_type": "code",
   "execution_count": null,
   "id": "20e5d942",
   "metadata": {},
   "outputs": [],
   "source": [
    "test['electricity_consumption_predicted'] = forecast.values"
   ]
  },
  {
   "cell_type": "code",
   "execution_count": null,
   "id": "253aafd5",
   "metadata": {},
   "outputs": [
    {
     "data": {
      "text/html": [
       "<div>\n",
       "<style scoped>\n",
       "    .dataframe tbody tr th:only-of-type {\n",
       "        vertical-align: middle;\n",
       "    }\n",
       "\n",
       "    .dataframe tbody tr th {\n",
       "        vertical-align: top;\n",
       "    }\n",
       "\n",
       "    .dataframe thead th {\n",
       "        text-align: right;\n",
       "    }\n",
       "</style>\n",
       "<table border=\"1\" class=\"dataframe\">\n",
       "  <thead>\n",
       "    <tr style=\"text-align: right;\">\n",
       "      <th></th>\n",
       "      <th>ID</th>\n",
       "      <th>temperature_2m_max</th>\n",
       "      <th>temperature_2m_min</th>\n",
       "      <th>sunshine_duration</th>\n",
       "      <th>daylight_duration</th>\n",
       "      <th>wind_speed_10m_max</th>\n",
       "      <th>wind_direction_10m_dominant</th>\n",
       "      <th>electricity_consumption_predicted</th>\n",
       "    </tr>\n",
       "  </thead>\n",
       "  <tbody>\n",
       "    <tr>\n",
       "      <th>0</th>\n",
       "      <td>cluster_1_2022-01-01</td>\n",
       "      <td>15.2</td>\n",
       "      <td>7.9</td>\n",
       "      <td>21902.986667</td>\n",
       "      <td>29784.506667</td>\n",
       "      <td>22.2</td>\n",
       "      <td>172.732245</td>\n",
       "      <td>354.573438</td>\n",
       "    </tr>\n",
       "    <tr>\n",
       "      <th>1</th>\n",
       "      <td>cluster_2_2022-01-01</td>\n",
       "      <td>15.9</td>\n",
       "      <td>4.1</td>\n",
       "      <td>23550.080000</td>\n",
       "      <td>30647.540000</td>\n",
       "      <td>22.7</td>\n",
       "      <td>163.972679</td>\n",
       "      <td>506.408236</td>\n",
       "    </tr>\n",
       "    <tr>\n",
       "      <th>2</th>\n",
       "      <td>cluster_3_2022-01-01</td>\n",
       "      <td>18.6</td>\n",
       "      <td>4.9</td>\n",
       "      <td>24179.643333</td>\n",
       "      <td>31545.103333</td>\n",
       "      <td>15.5</td>\n",
       "      <td>198.645137</td>\n",
       "      <td>703.774540</td>\n",
       "    </tr>\n",
       "    <tr>\n",
       "      <th>3</th>\n",
       "      <td>cluster_4_2022-01-01</td>\n",
       "      <td>13.3</td>\n",
       "      <td>3.9</td>\n",
       "      <td>23839.203333</td>\n",
       "      <td>30766.446667</td>\n",
       "      <td>16.1</td>\n",
       "      <td>183.517316</td>\n",
       "      <td>988.760224</td>\n",
       "    </tr>\n",
       "    <tr>\n",
       "      <th>4</th>\n",
       "      <td>cluster_1_2022-01-02</td>\n",
       "      <td>14.1</td>\n",
       "      <td>8.1</td>\n",
       "      <td>21018.193333</td>\n",
       "      <td>29847.110000</td>\n",
       "      <td>34.4</td>\n",
       "      <td>223.335840</td>\n",
       "      <td>353.411224</td>\n",
       "    </tr>\n",
       "  </tbody>\n",
       "</table>\n",
       "</div>"
      ],
      "text/plain": [
       "                     ID  temperature_2m_max  temperature_2m_min  \\\n",
       "0  cluster_1_2022-01-01                15.2                 7.9   \n",
       "1  cluster_2_2022-01-01                15.9                 4.1   \n",
       "2  cluster_3_2022-01-01                18.6                 4.9   \n",
       "3  cluster_4_2022-01-01                13.3                 3.9   \n",
       "4  cluster_1_2022-01-02                14.1                 8.1   \n",
       "\n",
       "   sunshine_duration  daylight_duration  wind_speed_10m_max  \\\n",
       "0       21902.986667       29784.506667                22.2   \n",
       "1       23550.080000       30647.540000                22.7   \n",
       "2       24179.643333       31545.103333                15.5   \n",
       "3       23839.203333       30766.446667                16.1   \n",
       "4       21018.193333       29847.110000                34.4   \n",
       "\n",
       "   wind_direction_10m_dominant  electricity_consumption_predicted  \n",
       "0                   172.732245                         354.573438  \n",
       "1                   163.972679                         506.408236  \n",
       "2                   198.645137                         703.774540  \n",
       "3                   183.517316                         988.760224  \n",
       "4                   223.335840                         353.411224  "
      ]
     },
     "execution_count": 37,
     "metadata": {},
     "output_type": "execute_result"
    }
   ],
   "source": [
    "test.head()"
   ]
  },
  {
   "cell_type": "code",
   "execution_count": null,
   "id": "5e96a6c7",
   "metadata": {},
   "outputs": [],
   "source": [
    "split_index = int(len(train) * 0.8)\n",
    "train_part = train.iloc[:split_index]\n",
    "test_part = train.iloc[split_index:]"
   ]
  },
  {
   "cell_type": "code",
   "execution_count": null,
   "id": "f8bdbcd6",
   "metadata": {},
   "outputs": [],
   "source": [
    "model = SARIMAX(train_part['electricity_consumption'],\n",
    "                order=(1, 0, 0), seasonal_order=(1, 0, 0, 4),\n",
    "                enforce_stationarity=False, enforce_invertibility=False)\n",
    "results = model.fit()"
   ]
  },
  {
   "cell_type": "code",
   "execution_count": null,
   "id": "bfad74c2",
   "metadata": {},
   "outputs": [],
   "source": [
    "forecast = results.forecast(steps=len(test_part))"
   ]
  },
  {
   "cell_type": "code",
   "execution_count": null,
   "id": "a2c06940",
   "metadata": {},
   "outputs": [
    {
     "name": "stdout",
     "output_type": "stream",
     "text": [
      "RMSE: 508.6451\n"
     ]
    }
   ],
   "source": [
    "rmse_score = np.sqrt(mean_squared_error(test_part['electricity_consumption'], forecast))\n",
    "print(f\"RMSE: {rmse_score:.4f}\")"
   ]
  },
  {
   "cell_type": "code",
   "execution_count": null,
   "id": "9b013a83",
   "metadata": {},
   "outputs": [],
   "source": [
    "y_pred = y_pred.reset_index(drop=True)"
   ]
  },
  {
   "cell_type": "code",
   "execution_count": null,
   "id": "33b0a6c4",
   "metadata": {},
   "outputs": [],
   "source": [
    "submission = pd.DataFrame({\n",
    "    'ID': test['ID'],  # Ganti sesuai kolom unik jika ada\n",
    "    'electricity_consumption': y_pred\n",
    "})"
   ]
  },
  {
   "cell_type": "code",
   "execution_count": null,
   "id": "39cf45d0",
   "metadata": {},
   "outputs": [],
   "source": [
    "submission.to_csv('submission2.csv', index=False)"
   ]
  },
  {
   "cell_type": "markdown",
   "id": "85661561",
   "metadata": {},
   "source": [
    "### LSTM"
   ]
  },
  {
   "cell_type": "code",
   "execution_count": 31,
   "id": "60527469",
   "metadata": {},
   "outputs": [],
   "source": [
    "import tensorflow as tf\n",
    "from tensorflow.keras.models import Sequential\n",
    "from tensorflow.keras.layers import LSTM, Dense\n",
    "from sklearn.preprocessing import MinMaxScaler"
   ]
  },
  {
   "cell_type": "code",
   "execution_count": 32,
   "id": "1ec5312d",
   "metadata": {},
   "outputs": [],
   "source": [
    "series = train['electricity_consumption'].values.reshape(-1, 1)\n",
    "scaler = MinMaxScaler()\n",
    "series_scaled = scaler.fit_transform(series)"
   ]
  },
  {
   "cell_type": "code",
   "execution_count": 33,
   "id": "7a733505",
   "metadata": {},
   "outputs": [],
   "source": [
    "series_test = test['electricity_consumption'].values.reshape(-1, 1) if 'electricity_consumption' in test.columns else None"
   ]
  },
  {
   "cell_type": "code",
   "execution_count": 34,
   "id": "4b052812",
   "metadata": {},
   "outputs": [],
   "source": [
    "def create_sequences(data, seq_length):\n",
    "    X, y = [], []\n",
    "    for i in range(len(data) - seq_length):\n",
    "        X.append(data[i:i+seq_length])\n",
    "        y.append(data[i+seq_length])\n",
    "    return np.array(X), np.array(y)"
   ]
  },
  {
   "cell_type": "code",
   "execution_count": 35,
   "id": "81bdb26e",
   "metadata": {},
   "outputs": [],
   "source": [
    "seq_length = 12  # Number of previous time steps to use\n",
    "X, y = create_sequences(series_scaled, seq_length)"
   ]
  },
  {
   "cell_type": "code",
   "execution_count": 36,
   "id": "898bcb04",
   "metadata": {},
   "outputs": [],
   "source": [
    "split_idx = len(train) - len(test)\n",
    "X_train = X[:split_idx - seq_length]\n",
    "y_train = y[:split_idx - seq_length]"
   ]
  },
  {
   "cell_type": "code",
   "execution_count": 37,
   "id": "7d58cf7b",
   "metadata": {},
   "outputs": [
    {
     "name": "stderr",
     "output_type": "stream",
     "text": [
      "c:\\Users\\HP\\anaconda3\\Lib\\site-packages\\keras\\src\\layers\\rnn\\rnn.py:200: UserWarning: Do not pass an `input_shape`/`input_dim` argument to a layer. When using Sequential models, prefer using an `Input(shape)` object as the first layer in the model instead.\n",
      "  super().__init__(**kwargs)\n"
     ]
    },
    {
     "name": "stdout",
     "output_type": "stream",
     "text": [
      "Epoch 1/20\n",
      "\u001b[1m518/518\u001b[0m \u001b[32m━━━━━━━━━━━━━━━━━━━━\u001b[0m\u001b[37m\u001b[0m \u001b[1m5s\u001b[0m 6ms/step - loss: 0.0441\n",
      "Epoch 2/20\n",
      "\u001b[1m518/518\u001b[0m \u001b[32m━━━━━━━━━━━━━━━━━━━━\u001b[0m\u001b[37m\u001b[0m \u001b[1m4s\u001b[0m 7ms/step - loss: 0.0067\n",
      "Epoch 3/20\n",
      "\u001b[1m518/518\u001b[0m \u001b[32m━━━━━━━━━━━━━━━━━━━━\u001b[0m\u001b[37m\u001b[0m \u001b[1m4s\u001b[0m 7ms/step - loss: 0.0013\n",
      "Epoch 4/20\n",
      "\u001b[1m518/518\u001b[0m \u001b[32m━━━━━━━━━━━━━━━━━━━━\u001b[0m\u001b[37m\u001b[0m \u001b[1m4s\u001b[0m 7ms/step - loss: 7.4998e-04\n",
      "Epoch 5/20\n",
      "\u001b[1m518/518\u001b[0m \u001b[32m━━━━━━━━━━━━━━━━━━━━\u001b[0m\u001b[37m\u001b[0m \u001b[1m4s\u001b[0m 7ms/step - loss: 7.4051e-04\n",
      "Epoch 6/20\n",
      "\u001b[1m518/518\u001b[0m \u001b[32m━━━━━━━━━━━━━━━━━━━━\u001b[0m\u001b[37m\u001b[0m \u001b[1m5s\u001b[0m 7ms/step - loss: 6.0299e-04\n",
      "Epoch 7/20\n",
      "\u001b[1m518/518\u001b[0m \u001b[32m━━━━━━━━━━━━━━━━━━━━\u001b[0m\u001b[37m\u001b[0m \u001b[1m4s\u001b[0m 8ms/step - loss: 5.3237e-04\n",
      "Epoch 8/20\n",
      "\u001b[1m518/518\u001b[0m \u001b[32m━━━━━━━━━━━━━━━━━━━━\u001b[0m\u001b[37m\u001b[0m \u001b[1m4s\u001b[0m 9ms/step - loss: 5.1856e-04\n",
      "Epoch 9/20\n",
      "\u001b[1m518/518\u001b[0m \u001b[32m━━━━━━━━━━━━━━━━━━━━\u001b[0m\u001b[37m\u001b[0m \u001b[1m6s\u001b[0m 11ms/step - loss: 4.2780e-04\n",
      "Epoch 10/20\n",
      "\u001b[1m518/518\u001b[0m \u001b[32m━━━━━━━━━━━━━━━━━━━━\u001b[0m\u001b[37m\u001b[0m \u001b[1m5s\u001b[0m 10ms/step - loss: 3.9694e-04\n",
      "Epoch 11/20\n",
      "\u001b[1m518/518\u001b[0m \u001b[32m━━━━━━━━━━━━━━━━━━━━\u001b[0m\u001b[37m\u001b[0m \u001b[1m4s\u001b[0m 8ms/step - loss: 3.5691e-04\n",
      "Epoch 12/20\n",
      "\u001b[1m518/518\u001b[0m \u001b[32m━━━━━━━━━━━━━━━━━━━━\u001b[0m\u001b[37m\u001b[0m \u001b[1m5s\u001b[0m 9ms/step - loss: 3.4097e-04\n",
      "Epoch 13/20\n",
      "\u001b[1m518/518\u001b[0m \u001b[32m━━━━━━━━━━━━━━━━━━━━\u001b[0m\u001b[37m\u001b[0m \u001b[1m4s\u001b[0m 8ms/step - loss: 3.4967e-04\n",
      "Epoch 14/20\n",
      "\u001b[1m518/518\u001b[0m \u001b[32m━━━━━━━━━━━━━━━━━━━━\u001b[0m\u001b[37m\u001b[0m \u001b[1m5s\u001b[0m 9ms/step - loss: 3.2040e-04\n",
      "Epoch 15/20\n",
      "\u001b[1m518/518\u001b[0m \u001b[32m━━━━━━━━━━━━━━━━━━━━\u001b[0m\u001b[37m\u001b[0m \u001b[1m4s\u001b[0m 8ms/step - loss: 3.2322e-04\n",
      "Epoch 16/20\n",
      "\u001b[1m518/518\u001b[0m \u001b[32m━━━━━━━━━━━━━━━━━━━━\u001b[0m\u001b[37m\u001b[0m \u001b[1m4s\u001b[0m 8ms/step - loss: 3.1614e-04\n",
      "Epoch 17/20\n",
      "\u001b[1m518/518\u001b[0m \u001b[32m━━━━━━━━━━━━━━━━━━━━\u001b[0m\u001b[37m\u001b[0m \u001b[1m4s\u001b[0m 7ms/step - loss: 2.9356e-04\n",
      "Epoch 18/20\n",
      "\u001b[1m518/518\u001b[0m \u001b[32m━━━━━━━━━━━━━━━━━━━━\u001b[0m\u001b[37m\u001b[0m \u001b[1m5s\u001b[0m 9ms/step - loss: 2.8377e-04\n",
      "Epoch 19/20\n",
      "\u001b[1m518/518\u001b[0m \u001b[32m━━━━━━━━━━━━━━━━━━━━\u001b[0m\u001b[37m\u001b[0m \u001b[1m4s\u001b[0m 7ms/step - loss: 2.9705e-04\n",
      "Epoch 20/20\n",
      "\u001b[1m518/518\u001b[0m \u001b[32m━━━━━━━━━━━━━━━━━━━━\u001b[0m\u001b[37m\u001b[0m \u001b[1m3s\u001b[0m 6ms/step - loss: 2.7659e-04\n"
     ]
    },
    {
     "data": {
      "text/plain": [
       "<keras.src.callbacks.history.History at 0x1e9d7e9bc20>"
      ]
     },
     "execution_count": 37,
     "metadata": {},
     "output_type": "execute_result"
    }
   ],
   "source": [
    "model = Sequential([\n",
    "    LSTM(50, activation='relu', input_shape=(seq_length, 1)),\n",
    "    Dense(1)\n",
    "])\n",
    "model.compile(optimizer='adam', loss='mse')\n",
    "model.fit(X_train, y_train, epochs=20, batch_size=16, verbose=1)"
   ]
  },
  {
   "cell_type": "code",
   "execution_count": 38,
   "id": "97899528",
   "metadata": {},
   "outputs": [],
   "source": [
    "input_seq = series_scaled[-seq_length:].reshape(1, seq_length, 1)\n",
    "predictions = []"
   ]
  },
  {
   "cell_type": "code",
   "execution_count": 39,
   "id": "b830a702",
   "metadata": {},
   "outputs": [],
   "source": [
    "for _ in range(len(test)):\n",
    "    pred = model.predict(input_seq, verbose=0)[0]\n",
    "    predictions.append(pred)\n",
    "    input_seq = np.append(input_seq[:, 1:, :], [[pred]], axis=1)"
   ]
  },
  {
   "cell_type": "code",
   "execution_count": 40,
   "id": "ecbf6d6d",
   "metadata": {},
   "outputs": [],
   "source": [
    "y_pred = scaler.inverse_transform(np.array(predictions).reshape(-1, 1)).flatten()"
   ]
  },
  {
   "cell_type": "code",
   "execution_count": 41,
   "id": "88b2472b",
   "metadata": {},
   "outputs": [],
   "source": [
    "submission = pd.DataFrame({\n",
    "    'ID': test['ID'].values,\n",
    "    'electricity_consumption': y_pred\n",
    "})"
   ]
  },
  {
   "cell_type": "code",
   "execution_count": 44,
   "id": "852bc938",
   "metadata": {},
   "outputs": [],
   "source": [
    "submission.to_csv('submission5.csv', index=False)"
   ]
  },
  {
   "cell_type": "code",
   "execution_count": 43,
   "id": "5fd220d2",
   "metadata": {},
   "outputs": [],
   "source": [
    "# rmse_score = np.sqrt(mean_squared_error(y_test_inv, y_pred))\n",
    "# print(f\"LSTM RMSE: {rmse_score:.4f}\")"
   ]
  },
  {
   "cell_type": "code",
   "execution_count": null,
   "id": "b2d82073",
   "metadata": {},
   "outputs": [
    {
     "name": "stdout",
     "output_type": "stream",
     "text": [
      "\u001b[1m73/73\u001b[0m \u001b[32m━━━━━━━━━━━━━━━━━━━━\u001b[0m\u001b[37m\u001b[0m \u001b[1m0s\u001b[0m 5ms/step\n"
     ]
    }
   ],
   "source": [
    "# Make sure y_pred is 1D\n",
    "y_pred_scaled = model.predict(X_test)\n",
    "y_pred = scaler.inverse_transform(y_pred_scaled.reshape(-1, 1)).flatten()\n",
    "\n",
    "# Optional: Also inverse y_test for evaluation\n",
    "y_test_inv = scaler.inverse_transform(y_test.reshape(-1, 1)).flatten()\n",
    "\n",
    "# Reset index just to be safe and ensure they match\n",
    "submission = pd.DataFrame({\n",
    "    'ID': test['ID'].reset_index(drop=True),\n",
    "    'electricity_consumption': pd.Series(y_pred)\n",
    "})\n",
    "\n",
    "# Save submission if needed\n",
    "submission.to_csv('submission4.csv', index=False)"
   ]
  },
  {
   "cell_type": "code",
   "execution_count": 27,
   "id": "89af356a",
   "metadata": {},
   "outputs": [],
   "source": [
    "df = pd.read_csv('submission4.csv')"
   ]
  },
  {
   "cell_type": "code",
   "execution_count": 28,
   "id": "f4068e32",
   "metadata": {},
   "outputs": [
    {
     "name": "stdout",
     "output_type": "stream",
     "text": [
      "ID                         0.000000\n",
      "electricity_consumption    9.103354\n",
      "dtype: float64\n"
     ]
    }
   ],
   "source": [
    "missing_percent = df.isnull().sum() / len(train) * 100\n",
    "print(missing_percent)"
   ]
  },
  {
   "cell_type": "code",
   "execution_count": 25,
   "id": "ee897f29",
   "metadata": {},
   "outputs": [
    {
     "data": {
      "text/plain": [
       "(3400, 7)"
      ]
     },
     "execution_count": 25,
     "metadata": {},
     "output_type": "execute_result"
    }
   ],
   "source": [
    "test.shape"
   ]
  },
  {
   "cell_type": "code",
   "execution_count": 29,
   "id": "1d7ab0b6",
   "metadata": {},
   "outputs": [
    {
     "data": {
      "text/plain": [
       "(3400, 2)"
      ]
     },
     "execution_count": 29,
     "metadata": {},
     "output_type": "execute_result"
    }
   ],
   "source": [
    "df.shape"
   ]
  },
  {
   "cell_type": "code",
   "execution_count": null,
   "id": "c082995b",
   "metadata": {},
   "outputs": [],
   "source": []
  }
 ],
 "metadata": {
  "kernelspec": {
   "display_name": "base",
   "language": "python",
   "name": "python3"
  },
  "language_info": {
   "codemirror_mode": {
    "name": "ipython",
    "version": 3
   },
   "file_extension": ".py",
   "mimetype": "text/x-python",
   "name": "python",
   "nbconvert_exporter": "python",
   "pygments_lexer": "ipython3",
   "version": "3.12.7"
  }
 },
 "nbformat": 4,
 "nbformat_minor": 5
}
